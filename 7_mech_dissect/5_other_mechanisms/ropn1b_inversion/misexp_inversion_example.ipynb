{
 "cells": [
  {
   "cell_type": "markdown",
   "id": "d73019f7",
   "metadata": {},
   "source": [
    "### Inversion example \n",
    "\n",
    "* Variant ID: 605947\n",
    "* ENSG00000114547 "
   ]
  },
  {
   "cell_type": "code",
   "execution_count": 1,
   "id": "30669239",
   "metadata": {},
   "outputs": [],
   "source": [
    "import pandas as pd \n",
    "import pysam \n",
    "from pathlib import Path\n",
    "import numpy as np\n",
    "import matplotlib.pyplot as plt\n",
    "import seaborn as sns"
   ]
  },
  {
   "cell_type": "code",
   "execution_count": 2,
   "id": "2dfb0e40",
   "metadata": {},
   "outputs": [],
   "source": [
    "wkdir = \"/lustre/scratch126/humgen/projects/interval_rna/interval_rna_seq/thomasVDS/misexpression_v3\"\n",
    "wkdir_path = Path(wkdir)\n",
    "\n",
    "# gene and variant \n",
    "misexp_vrnt_id = \"605947\"\n",
    "misexp_gene_id = \"ENSG00000114547\"\n",
    "out_dir= wkdir_path.joinpath(f\"6_misexp_dissect/other_mechanisms/{misexp_vrnt_id}_{misexp_gene_id}\")\n",
    "out_dir.mkdir(parents=True, exist_ok=True)\n",
    "\n",
    "vcf_path=\"/lustre/scratch126/humgen/projects/interval_rna/interval_rna_seq/thomasVDS/lof_missense/data/sv_vcf/filtered_merged_gs_svp_10728.vcf.gz\"\n",
    "sv_info_path = \"/lustre/scratch126/humgen/projects/interval_rna/interval_rna_seq/thomasVDS/lof_missense/data/sv_vcf/info_table/final_sites_critical_info_allele.txt\"\n",
    "# inputs\n",
    "star_pass_2_out = \"/lustre/scratch126/humgen/projects/interval_rna/interval_rna_seq_n5188_v97/results/star_pass2_2ndpass/\"\n",
    "ge_matrix_flat_path = wkdir_path.joinpath(\"2_misexp_qc/misexp_gene_cov_corr/tpm_zscore_4568smpls_8610genes_flat_misexp_corr_qc.csv\")\n",
    "wgs_rna_paired_smpls_path=wkdir_path.joinpath(\"1_rna_seq_qc/wgs_rna_match/paired_wgs_rna_postqc_prioritise_wgs.tsv\")"
   ]
  },
  {
   "cell_type": "code",
   "execution_count": 3,
   "id": "dc3fdf52",
   "metadata": {},
   "outputs": [],
   "source": [
    "# load SV info \n",
    "sv_info_df = pd.read_csv(sv_info_path, sep=\"\\t\", dtype={\"plinkID\":str})\n",
    "# get variant ID information \n",
    "vrnt_id_info_df = sv_info_df[sv_info_df.plinkID == misexp_vrnt_id]\n",
    "chrom, start, end = [vrnt_id_info_df[col].item() for col in [\"chr\", \"pos\", \"end\"]]"
   ]
  },
  {
   "cell_type": "code",
   "execution_count": 4,
   "id": "c61eab0b",
   "metadata": {},
   "outputs": [],
   "source": [
    "ge_matrix_flat_df = pd.read_csv(ge_matrix_flat_path, sep=\",\")"
   ]
  },
  {
   "cell_type": "markdown",
   "id": "bafc732d",
   "metadata": {},
   "source": [
    "### Expression of SV carriers and non-carriers "
   ]
  },
  {
   "cell_type": "code",
   "execution_count": 5,
   "id": "93caf1a4",
   "metadata": {},
   "outputs": [
    {
     "name": "stdout",
     "output_type": "stream",
     "text": [
      "Gene IDs passing filters: 8610\n",
      "RNA-seq sample IDs passing QC: 4568\n",
      "Loading input VCF ...\n",
      "VCF loaded.\n",
      "Subset VCF to samples with RNA-seq ...\n",
      "Number of samples in VCF with RNA ID and passing QC: 2640\n",
      "Number of RNA IDs passing QC: 2640\n"
     ]
    }
   ],
   "source": [
    "misexp_exp_df = ge_matrix_flat_df[ge_matrix_flat_df.gene_id == misexp_gene_id]\n",
    "# subset to SV samples \n",
    "gene_id_pass_qc_set = set(ge_matrix_flat_df.gene_id.unique())\n",
    "print(f\"Gene IDs passing filters: {len(gene_id_pass_qc_set)}\")\n",
    "smpl_id_pass_qc_set = set(ge_matrix_flat_df.rna_id.unique())\n",
    "print(f\"RNA-seq sample IDs passing QC: {len(smpl_id_pass_qc_set)}\")\n",
    "# egan ID, RNA ID sample links \n",
    "wgs_rna_paired_smpls_df = pd.read_csv(wgs_rna_paired_smpls_path, sep=\"\\t\")\n",
    "egan_ids_with_rna = wgs_rna_paired_smpls_df[wgs_rna_paired_smpls_df.rna_id.isin(smpl_id_pass_qc_set)].egan_id.tolist()\n",
    "# load VCF and subset to EGAN IDs with RNA \n",
    "print(\"Loading input VCF ...\")\n",
    "vcf_path = vcf_path\n",
    "vcf = pysam.VariantFile(vcf_path, mode = \"r\")\n",
    "print(\"VCF loaded.\")\n",
    "print(\"Subset VCF to samples with RNA-seq ...\")\n",
    "vcf_samples = [sample for sample in vcf.header.samples]\n",
    "vcf_egan_ids_with_rna = set(egan_ids_with_rna).intersection(set(vcf_samples))\n",
    "vcf.subset_samples(vcf_egan_ids_with_rna)\n",
    "vcf_samples_with_rna = [sample for sample in vcf.header.samples]\n",
    "print(f\"Number of samples in VCF with RNA ID and passing QC: {len(vcf_samples_with_rna)}\")\n",
    "# subset egan ID and RNA ID links to samples with SV calls and passing QC \n",
    "wgs_rna_paired_smpls_with_sv_calls_df = wgs_rna_paired_smpls_df[wgs_rna_paired_smpls_df.egan_id.isin(vcf_samples_with_rna)]\n",
    "# write EGAN-RNA ID pairs to file\n",
    "rna_id_pass_qc_sv_calls = wgs_rna_paired_smpls_with_sv_calls_df.rna_id.unique().tolist()\n",
    "print(f\"Number of RNA IDs passing QC: {len(rna_id_pass_qc_sv_calls)}\")"
   ]
  },
  {
   "cell_type": "code",
   "execution_count": 6,
   "id": "4f9c8b7d",
   "metadata": {},
   "outputs": [],
   "source": [
    "def get_rna_id_carriers(vrnt_id, chrom, start, end, wgs_rna_paired_smpls_df):\n",
    "    chrom_num = chrom.split(\"chr\")[1]\n",
    "    vrnt_gt_egan_dict, count = {}, 0\n",
    "    found_vrnt_id = False\n",
    "    for rec in vcf.fetch(chrom_num, start-1, end): \n",
    "        vcf_vrnt_id = str(rec.id)\n",
    "        if vrnt_id == vcf_vrnt_id:\n",
    "            found_vrnt_id = True \n",
    "            # collect genotypes\n",
    "            gts = [s[\"GT\"] for s in rec.samples.values()]\n",
    "            for i, gt in enumerate(gts): \n",
    "                vrnt_gt_egan_dict[count] = [vrnt_id, vcf_samples_with_rna[i], gt]\n",
    "                count += 1 \n",
    "    if not found_vrnt_id: \n",
    "        raise ValueError(f\"Did not find {vrnt_id} in {vcf_path}\")\n",
    "    vrnt_gt_egan_df = pd.DataFrame.from_dict(vrnt_gt_egan_dict, orient=\"index\", columns=[\"vrnt_id\", \"egan_id\", \"genotype\"])\n",
    "    egan_id_carriers = vrnt_gt_egan_df[vrnt_gt_egan_df.genotype != (0, 0)].egan_id.unique()\n",
    "    rna_id_carriers = wgs_rna_paired_smpls_df[wgs_rna_paired_smpls_df.egan_id.isin(egan_id_carriers)].rna_id.unique()\n",
    "    if len(egan_id_carriers) != len(rna_id_carriers): \n",
    "        raise ValueError(\"Number of RNA and DNA samples does not match.\")\n",
    "    return rna_id_carriers"
   ]
  },
  {
   "cell_type": "code",
   "execution_count": 7,
   "id": "09d133cc",
   "metadata": {},
   "outputs": [
    {
     "name": "stdout",
     "output_type": "stream",
     "text": [
      "Number of carriers with RNA: 10\n"
     ]
    }
   ],
   "source": [
    "rna_id_carriers = get_rna_id_carriers(misexp_vrnt_id, chrom, start, end, wgs_rna_paired_smpls_df)\n",
    "print(f\"Number of carriers with RNA: {len(rna_id_carriers)}\")"
   ]
  },
  {
   "cell_type": "code",
   "execution_count": 8,
   "id": "ee8e85b0",
   "metadata": {},
   "outputs": [],
   "source": [
    "misexp_exp_sv_carriers_df = misexp_exp_df[misexp_exp_df.rna_id.isin(rna_id_pass_qc_sv_calls)].copy()\n",
    "misexp_exp_sv_carriers_df[\"status\"] = np.where(misexp_exp_sv_carriers_df.rna_id.isin(rna_id_carriers), \"Carrier\", \"Non-carrier\")"
   ]
  },
  {
   "cell_type": "code",
   "execution_count": 9,
   "id": "14acb1e2",
   "metadata": {},
   "outputs": [],
   "source": [
    "misexp_exp_sv_carriers_df[\"misexp\"] = np.where((misexp_exp_sv_carriers_df.TPM > 0.5) & (misexp_exp_sv_carriers_df[\"z-score\"] > 2), \"Misexpressed\", \"Control\")"
   ]
  },
  {
   "cell_type": "code",
   "execution_count": 10,
   "id": "86c05fd5",
   "metadata": {},
   "outputs": [
    {
     "data": {
      "image/png": "[encoded data removed]",
      "text/plain": [
       "<Figure size 644x500 with 1 Axes>"
      ]
     },
     "metadata": {},
     "output_type": "display_data"
    }
   ],
   "source": [
    "ax = sns.catplot(data=misexp_exp_sv_carriers_df, \n",
    "           x=\"status\", \n",
    "            y=\"TPM\", \n",
    "                 hue=\"misexp\"\n",
    "           )\n",
    "ax.set(ylabel=\"ROPN1B Expression (TPM)\", xlabel=\"Carrier Status\")\n",
    "plt.show()"
   ]
  },
  {
   "cell_type": "markdown",
   "id": "16e39136",
   "metadata": {},
   "source": [
    "### Transcript quantification data (Salmon)"
   ]
  },
  {
   "cell_type": "code",
   "execution_count": 12,
   "id": "dae4a686",
   "metadata": {},
   "outputs": [],
   "source": [
    "# misexpressed genes transcripts \n",
    "gencode_path = wkdir_path.joinpath(\"reference/gencode/gencode.v31.annotation.sorted.gtf.gz\")\n",
    "misexp_gene_transcript_ids = []\n",
    "for gtf in pysam.TabixFile(str(gencode_path)).fetch(parser = pysam.asGTF()): \n",
    "    if gtf.gene_id.split(\".\")[0] == misexp_gene_id and gtf.feature == \"transcript\": \n",
    "        misexp_gene_transcript_ids.append(gtf.transcript_id)"
   ]
  },
  {
   "cell_type": "code",
   "execution_count": 13,
   "id": "328a1ddb",
   "metadata": {},
   "outputs": [],
   "source": [
    "# collect transcript quantification files\n",
    "quant_sf_dir = \"/lustre/scratch126/humgen/projects/interval_rna/interval_rna_seq_n5188_v97/results/salmon\"\n",
    "quant_sf_dir_path = Path(quant_sf_dir)\n",
    "misexp_transcript_df = pd.DataFrame(columns=[\"Name\"])\n",
    "for rna_id in rna_id_carriers: \n",
    "    rna_id_path = f\"{rna_id}.quant.sf\"\n",
    "    quant_sf_path = quant_sf_dir_path.joinpath(rna_id_path)\n",
    "    quant_sf_df = pd.read_csv(quant_sf_path, sep=\"\\t\")\n",
    "    quant_sf_df = quant_sf_df.rename(columns={\"TPM\": rna_id})\n",
    "    misexp_quant_sf_df = quant_sf_df[quant_sf_df.Name.isin(misexp_gene_transcript_ids)]\n",
    "    misexp_transcript_df = pd.merge(misexp_transcript_df, \n",
    "                                    misexp_quant_sf_df[[\"Name\", rna_id]], \n",
    "                                    on=\"Name\", \n",
    "                                    how=\"outer\")"
   ]
  },
  {
   "cell_type": "code",
   "execution_count": 14,
   "id": "717460d1",
   "metadata": {},
   "outputs": [],
   "source": [
    "misexp_transcript_tp_df = misexp_transcript_df.set_index(\"Name\").transpose()\n",
    "misexp_transcript_tp_proport_df = misexp_transcript_tp_df.div(misexp_transcript_tp_df.sum(axis=1), axis=0) * 100\n",
    "misexp_transcript_tp_proport_df = misexp_transcript_tp_proport_df.reset_index().melt(id_vars=\"index\").rename(columns={\"index\": \"rna_id\", \"Name\": \"transcript_id\", \"value\": \"perc_expression\"})"
   ]
  },
  {
   "cell_type": "code",
   "execution_count": 15,
   "id": "dff09c8b",
   "metadata": {},
   "outputs": [
    {
     "name": "stdout",
     "output_type": "stream",
     "text": [
      "Number of RNA IDs: 10\n"
     ]
    }
   ],
   "source": [
    "print(f\"Number of RNA IDs: {len(misexp_transcript_tp_proport_df.rna_id.unique())}\")"
   ]
  },
  {
   "cell_type": "code",
   "execution_count": 16,
   "id": "2c3a715c",
   "metadata": {},
   "outputs": [],
   "source": [
    "misexp_transcript_tp_proport_path = out_dir.joinpath(\"ropn1b_proport_expression.tsv\")\n",
    "misexp_transcript_tp_proport_df.to_csv(misexp_transcript_tp_proport_path, sep=\"\\t\", index=False)"
   ]
  }
 ],
 "metadata": {
  "kernelspec": {
   "display_name": "Python 3 (ipykernel)",
   "language": "python",
   "name": "python3"
  },
  "language_info": {
   "codemirror_mode": {
    "name": "ipython",
    "version": 3
   },
   "file_extension": ".py",
   "mimetype": "text/x-python",
   "name": "python",
   "nbconvert_exporter": "python",
   "pygments_lexer": "ipython3",
   "version": "3.7.7"
  }
 },
 "nbformat": 4,
 "nbformat_minor": 5
}
